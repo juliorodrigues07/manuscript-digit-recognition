{
  "nbformat": 4,
  "nbformat_minor": 0,
  "metadata": {
    "colab": {
      "name": "cnn_digit.ipynb",
      "provenance": [],
      "collapsed_sections": [],
      "authorship_tag": "ABX9TyNT0ZOWSz8IGVeNmlmUMwmY",
      "include_colab_link": true
    },
    "kernelspec": {
      "name": "python3",
      "display_name": "Python 3"
    },
    "language_info": {
      "name": "python"
    }
  },
  "cells": [
    {
      "cell_type": "markdown",
      "metadata": {
        "id": "view-in-github",
        "colab_type": "text"
      },
      "source": [
        "<a href=\"https://colab.research.google.com/github/juliorodrigues07/manuscript_digit_recognition/blob/master/cnn_digit.ipynb\" target=\"_parent\"><img src=\"https://colab.research.google.com/assets/colab-badge.svg\" alt=\"Open In Colab\"/></a>"
      ]
    },
    {
      "cell_type": "markdown",
      "source": [
        "# Implementação de DNN e CNN para reconhecimento de dígitos manuscritos"
      ],
      "metadata": {
        "id": "R9syD9PbBnGn"
      }
    },
    {
      "cell_type": "markdown",
      "source": [
        "- **Importação das bibliotecas necessárias para formular o modelo de aprendizado**"
      ],
      "metadata": {
        "id": "93DT3HrxkSUL"
      }
    },
    {
      "cell_type": "code",
      "execution_count": 1,
      "metadata": {
        "id": "gCmgFLAba6bx"
      },
      "outputs": [],
      "source": [
        "import matplotlib.pyplot as plt\n",
        "import tensorflow as tf\n",
        "import numpy as np\n",
        "import cv2 as cv\n",
        "import math\n",
        "import os\n",
        "\n",
        "from sklearn.metrics import ConfusionMatrixDisplay\n",
        "from tensorflow import keras\n",
        "from keras.models import load_model\n",
        "from keras import optimizers\n",
        "from keras import datasets\n",
        "from keras import layers\n",
        "\n",
        "dir = '/mnist_model/'\n",
        "if not os.path.exists(dir):\n",
        "  os.mkdir(dir)"
      ]
    },
    {
      "cell_type": "markdown",
      "source": [
        "- **Hiperparâmetros**"
      ],
      "metadata": {
        "id": "eY5aCZOZw6o1"
      }
    },
    {
      "cell_type": "code",
      "source": [
        "# Otimizador ('SGD', 'RMSprop', 'Adam', 'Adadelta', 'Adagrad', 'Adamax', 'Nadam', 'Ftrl') e perdas\n",
        "opt = 'Adam'\n",
        "lss = 'categorical_crossentropy'\n",
        "\n",
        "# Funções de ativação ('relu', 'sigmoid', 'softplus', 'softsign', 'softmax', 'tanh', 'selu', 'elu', 'exponential')\n",
        "actv_funct = 'relu'\n",
        "exit_actv_funct = 'softmax'\n",
        "\n",
        "# Tamanho dos batchs e número de épocas de treinamento\n",
        "b_size = 60\n",
        "n_epochs = 4"
      ],
      "metadata": {
        "id": "QOHMaJxZwxm2"
      },
      "execution_count": 19,
      "outputs": []
    },
    {
      "cell_type": "markdown",
      "source": [
        "- **Pré-Processamento**"
      ],
      "metadata": {
        "id": "RYNQUiCBjlfs"
      }
    },
    {
      "cell_type": "code",
      "source": [
        "# Número de classes (Dígitos de 0 a 9)\n",
        "n_classes = 10\n",
        "\n",
        "# Divisão da base de dados em conjunto de teste e treinamento\n",
        "(raw_training_attributes, raw_training_classes), (raw_test_attributes, raw_test_classes) = datasets.mnist.load_data()\n",
        "\n",
        "# Discretiza os valores da classe\n",
        "training_classes = keras.utils.to_categorical(raw_training_classes, n_classes)\n",
        "test_classes = keras.utils.to_categorical(raw_test_classes, n_classes)\n",
        "\n",
        "# Converte uma imagem (matriz) de resolução 28 x 28 para um vetor de tamanho 784 normaliza os valores de pixel (atributos)\n",
        "training_attr = raw_training_attributes.reshape(60000, 784)\n",
        "test_attr = raw_test_attributes.reshape(10000, 784)\n",
        "\n",
        "training_attributes = training_attr.astype('float32')/255\n",
        "test_attributes = test_attr.astype('float32')/255"
      ],
      "metadata": {
        "id": "FKaA8140bT55",
        "outputId": "68285f07-b593-4de7-c52d-cd587f187d52",
        "colab": {
          "base_uri": "https://localhost:8080/"
        }
      },
      "execution_count": 3,
      "outputs": [
        {
          "output_type": "stream",
          "name": "stdout",
          "text": [
            "Downloading data from https://storage.googleapis.com/tensorflow/tf-keras-datasets/mnist.npz\n",
            "11493376/11490434 [==============================] - 0s 0us/step\n",
            "11501568/11490434 [==============================] - 0s 0us/step\n"
          ]
        }
      ]
    },
    {
      "cell_type": "markdown",
      "source": [
        "- **Plots das imagens da base de dados**"
      ],
      "metadata": {
        "id": "mfJY4pR2hBwQ"
      }
    },
    {
      "cell_type": "code",
      "source": [
        "size = 16\n",
        "sqrt_size = math.sqrt(size)\n",
        "\n",
        "plt.figure()\n",
        "\n",
        "for i in range(size):\n",
        "  plt.subplot(sqrt_size, sqrt_size, i + 1)\n",
        "  plt.imshow(raw_training_attributes[i])\n",
        "  plt.axis('off')\n",
        "\n",
        "plt.show()"
      ],
      "metadata": {
        "colab": {
          "base_uri": "https://localhost:8080/",
          "height": 248
        },
        "id": "c72eF3cGdIoN",
        "outputId": "7f1fcd0f-abf7-4f19-936a-8fdb813ce541"
      },
      "execution_count": null,
      "outputs": [
        {
          "output_type": "display_data",
          "data": {
            "text/plain": [
              "<Figure size 432x288 with 16 Axes>"
            ],
            "image/png": "[encoded data removed]"
          },
          "metadata": {
            "needs_background": "light"
          }
        }
      ]
    },
    {
      "cell_type": "markdown",
      "source": [
        "- **DNN - Rede Neural Artificial Profunda**"
      ],
      "metadata": {
        "id": "fQXlJ_IevXRx"
      }
    },
    {
      "cell_type": "code",
      "source": [
        "# Definição da estrutura da rede neural (nº de camadas, nós, ativação...)\n",
        "model = keras.Sequential([\n",
        "                          layers.Dense(784, activation=actv_funct, input_dim=training_attributes.shape[1]),\n",
        "                          layers.Dense(260, activation=actv_funct),\n",
        "                          layers.Dense(130, activation=actv_funct),\n",
        "                          layers.Dense(n_classes, activation=exit_actv_funct)\n",
        "])\n",
        "\n",
        "# Sumário da rede neural e treinamento da mesma\n",
        "model.summary()\n",
        "model.compile(loss=lss, optimizer=opt, metrics=['accuracy'])\n",
        "model.fit(training_attributes, training_classes, batch_size=b_size, epochs=n_epochs, verbose=1)\n",
        "\n",
        "# Desempenho do modelo\n",
        "results = model.evaluate(test_attributes, test_classes, verbose=0)\n",
        "print('\\nPerda:    ' + str(round(results[0] * 100, 2)) + '%')\n",
        "print('Acurácia: ' + str(round(results[1] * 100, 2)) + '%')\n",
        "\n",
        "# Salvamento do modelo\n",
        "model.save(os.getcwd() + dir + 'DNN_' + str(n_epochs) + '_' + str(b_size) + '_' + str(actv_funct) + '_' + \n",
        "                                 str(exit_actv_funct) + '_' + str(opt) + '_' + str(lss) + '.h5')"
      ],
      "metadata": {
        "colab": {
          "base_uri": "https://localhost:8080/"
        },
        "id": "rhrvBxQBkcpk",
        "outputId": "6b90de94-712b-4a71-aca5-64eac7e44450"
      },
      "execution_count": 20,
      "outputs": [
        {
          "output_type": "stream",
          "name": "stdout",
          "text": [
            "Model: \"sequential_9\"\n",
            "_________________________________________________________________\n",
            " Layer (type)                Output Shape              Param #   \n",
            "=================================================================\n",
            " dense_32 (Dense)            (None, 784)               615440    \n",
            "                                                                 \n",
            " dense_33 (Dense)            (None, 260)               204100    \n",
            "                                                                 \n",
            " dense_34 (Dense)            (None, 130)               33930     \n",
            "                                                                 \n",
            " dense_35 (Dense)            (None, 10)                1310      \n",
            "                                                                 \n",
            "=================================================================\n",
            "Total params: 854,780\n",
            "Trainable params: 854,780\n",
            "Non-trainable params: 0\n",
            "_________________________________________________________________\n",
            "Epoch 1/4\n",
            "1000/1000 [==============================] - 10s 9ms/step - loss: 0.1963 - accuracy: 0.9398\n",
            "Epoch 2/4\n",
            "1000/1000 [==============================] - 9s 9ms/step - loss: 0.0826 - accuracy: 0.9746\n",
            "Epoch 3/4\n",
            "1000/1000 [==============================] - 9s 9ms/step - loss: 0.0539 - accuracy: 0.9831\n",
            "Epoch 4/4\n",
            "1000/1000 [==============================] - 9s 9ms/step - loss: 0.0417 - accuracy: 0.9863\n",
            "\n",
            "Perda:    7.75%\n",
            "Acurácia: 97.97%\n"
          ]
        }
      ]
    },
    {
      "cell_type": "markdown",
      "source": [
        "- **CNN - Rede Neural Artificial Convolucional**"
      ],
      "metadata": {
        "id": "nz_9iWQWW1DJ"
      }
    },
    {
      "cell_type": "code",
      "source": [
        "model = keras.Sequential()\n",
        "\n",
        "# Primeira camada convolucional\n",
        "model.add(layers.Conv2D(filters=32, kernel_size=5, strides=(1, 1), padding='same', activation=actv_funct, input_shape=(28, 28, 1)))\n",
        "model.add(layers.MaxPool2D(pool_size=(2, 2), strides=(2, 2), padding='valid'))\n",
        "\n",
        "# Segunda camada convolucional\n",
        "model.add(layers.Conv2D(filters=64, kernel_size=3, strides=(1, 1), padding='same', activation=actv_funct))\n",
        "model.add(layers.MaxPool2D(pool_size=(2, 2), strides=(2, 2), padding='valid'))\n",
        "\n",
        "# Camada de 'Dropout' que 'reseta' pesos das conexões aleatoriamente a cada n passos de treinamento, com o intuito de reduzir overfitting \n",
        "model.add(layers.Dropout(0.25))\n",
        "model.add(layers.Flatten())\n",
        "\n",
        "# Duas camadas inteiramente conectadas \n",
        "model.add(layers.Dense(128, activation=actv_funct))\n",
        "model.add(layers.Dropout(0.5))\n",
        "model.add(layers.Dense(10, activation=tf.nn.softmax))\n",
        "\n",
        "# Redimensionamento dos dados, adaptando para utilização da CNN\n",
        "cnn_training_attributes = training_attributes.reshape(60000, 28, 28, 1)\n",
        "cnn_test_attributes = test_attributes.reshape(10000, 28, 28, 1)\n",
        "\n",
        "# Treinamento da rede neural\n",
        "model.compile(optimizer=opt, loss=lss, metrics=['accuracy'])\n",
        "model.fit(cnn_training_attributes, training_classes, epochs=n_epochs, batch_size=b_size)\n",
        "\n",
        "# Desempenho do modelo\n",
        "results = model.evaluate(cnn_test_attributes, test_classes, verbose=0)\n",
        "print('\\nPerda:    ' + str(round(results[0] * 100, 2)) + '%')\n",
        "print('Acurácia: ' + str(round(results[1] * 100, 2)) + '%')\n",
        "\n",
        "model.save(os.getcwd() + dir + 'CNN_' + str(n_epochs) + '_' + str(b_size) + '_' + str(actv_funct) + '_' + \n",
        "                                 str(exit_actv_funct) + '_' + str(opt) + '_' + str(lss) + '.h5')"
      ],
      "metadata": {
        "colab": {
          "base_uri": "https://localhost:8080/"
        },
        "id": "ZPlYWA2-W0G3",
        "outputId": "f722d29e-b65e-49d1-bf1c-7b75af445929"
      },
      "execution_count": 21,
      "outputs": [
        {
          "output_type": "stream",
          "name": "stdout",
          "text": [
            "Epoch 1/4\n",
            "1000/1000 [==============================] - 74s 73ms/step - loss: 0.2351 - accuracy: 0.9270\n",
            "Epoch 2/4\n",
            "1000/1000 [==============================] - 73s 73ms/step - loss: 0.0864 - accuracy: 0.9739\n",
            "Epoch 3/4\n",
            "1000/1000 [==============================] - 73s 73ms/step - loss: 0.0658 - accuracy: 0.9798\n",
            "Epoch 4/4\n",
            "1000/1000 [==============================] - 72s 72ms/step - loss: 0.0555 - accuracy: 0.9832\n",
            "\n",
            "Perda:    2.66%\n",
            "Acurácia: 99.15%\n"
          ]
        }
      ]
    },
    {
      "cell_type": "markdown",
      "source": [
        "- **Carregamento de modelos**"
      ],
      "metadata": {
        "id": "QGQ2gyMkDIzq"
      }
    },
    {
      "cell_type": "code",
      "source": [
        "name = os.getcwd() + dir + 'CNN_4_60_relu_softmax_Adam_categorical_crossentropy.h5'\n",
        "\n",
        "loaded_model = load_model(name)\n",
        "loaded_model.summary()"
      ],
      "metadata": {
        "colab": {
          "base_uri": "https://localhost:8080/"
        },
        "id": "HhFkyVLsDID7",
        "outputId": "a9696c34-e699-42d6-e80b-029909950d6f"
      },
      "execution_count": 22,
      "outputs": [
        {
          "output_type": "stream",
          "name": "stdout",
          "text": [
            "Model: \"sequential_10\"\n",
            "_________________________________________________________________\n",
            " Layer (type)                Output Shape              Param #   \n",
            "=================================================================\n",
            " conv2d_4 (Conv2D)           (None, 28, 28, 32)        832       \n",
            "                                                                 \n",
            " max_pooling2d_4 (MaxPooling  (None, 14, 14, 32)       0         \n",
            " 2D)                                                             \n",
            "                                                                 \n",
            " conv2d_5 (Conv2D)           (None, 14, 14, 64)        18496     \n",
            "                                                                 \n",
            " max_pooling2d_5 (MaxPooling  (None, 7, 7, 64)         0         \n",
            " 2D)                                                             \n",
            "                                                                 \n",
            " dropout_4 (Dropout)         (None, 7, 7, 64)          0         \n",
            "                                                                 \n",
            " flatten_2 (Flatten)         (None, 3136)              0         \n",
            "                                                                 \n",
            " dense_36 (Dense)            (None, 128)               401536    \n",
            "                                                                 \n",
            " dropout_5 (Dropout)         (None, 128)               0         \n",
            "                                                                 \n",
            " dense_37 (Dense)            (None, 10)                1290      \n",
            "                                                                 \n",
            "=================================================================\n",
            "Total params: 422,154\n",
            "Trainable params: 422,154\n",
            "Non-trainable params: 0\n",
            "_________________________________________________________________\n"
          ]
        }
      ]
    },
    {
      "cell_type": "markdown",
      "source": [
        "- **Visualização das predições**"
      ],
      "metadata": {
        "id": "mVzkAH6-JeXl"
      }
    },
    {
      "cell_type": "code",
      "source": [
        "def visualize_predictions(attributes, n, c_map):\n",
        "\n",
        "  final = np.argmax(loaded_model.predict(attributes[0 : n]), axis=-1)\n",
        "\n",
        "  fig, ax = plt.subplots(nrows=int(n / 5) + 1, ncols=5)\n",
        "  ax = ax.flatten()\n",
        "\n",
        "  print('Predições para as primeiras {} imagens:'.format(n))\n",
        "\n",
        "  for i in range(n):\n",
        "    print(final[i],end=',')\n",
        "\n",
        "    if int((i + 1) % 5) == 0:\n",
        "      print('\\t')\n",
        "    \n",
        "    img = attributes[i].reshape((28, 28))\n",
        "    plt.axis(\"off\")\n",
        "\n",
        "    ax[i].imshow(img, cmap=c_map, interpolation='nearest')\n",
        "    ax[i].axis(\"off\")\n",
        "\n",
        "  print('\\nPrimeiras {} imagens do conjunto de teste:'.format(n))\n",
        "\n",
        "visualize_predictions(cnn_test_attributes, 25, 'Greys')"
      ],
      "metadata": {
        "colab": {
          "base_uri": "https://localhost:8080/",
          "height": 404
        },
        "id": "Zf-Kg62ADrw7",
        "outputId": "2b77db55-311c-40a1-9262-81a659962a33"
      },
      "execution_count": 23,
      "outputs": [
        {
          "output_type": "stream",
          "name": "stdout",
          "text": [
            "Predições para as primeiras 25 imagens:\n",
            "7,2,1,0,4,\t\n",
            "1,4,9,5,9,\t\n",
            "0,6,9,0,1,\t\n",
            "5,9,7,3,4,\t\n",
            "9,6,6,5,4,\t\n",
            "\n",
            "Primeiras 25 imagens do conjunto de teste:\n"
          ]
        },
        {
          "output_type": "display_data",
          "data": {
            "text/plain": [
              "<Figure size 432x288 with 30 Axes>"
            ],
            "image/png": "[encoded data removed]"
          },
          "metadata": {
            "needs_background": "light"
          }
        }
      ]
    },
    {
      "cell_type": "markdown",
      "source": [
        "- **Matriz de confusão**"
      ],
      "metadata": {
        "id": "ztCW2CDNVEPw"
      }
    },
    {
      "cell_type": "code",
      "source": [
        "# Executa as predições\n",
        "final = np.argmax(loaded_model.predict(cnn_test_attributes), axis=-1)\n",
        "\n",
        "# Formata os dados dos rótulos reais para comparar com as predições\n",
        "cnn_test_classes = list()\n",
        "for i in range(len(test_classes)):\n",
        "  cnn_test_classes.append(np.argmax(test_classes[i]))\n",
        "\n",
        "# Nome das classes (Dígitos de 0 a 9)\n",
        "class_names = [str(i) for i in range(n_classes)]\n",
        "\n",
        "# Plot da matriz de confusão\n",
        "fig_size = (12, 12)\n",
        "ConfusionMatrixDisplay.from_predictions(cnn_test_classes, final, display_labels=class_names, cmap='Blues', ax=plt.subplots(figsize=fig_size)[1])\n",
        "plt.title('Matriz de Confusão (MNIST)')\n",
        "plt.xlabel('Predições')\n",
        "plt.ylabel('Dígito verdadeiro')\n",
        "plt.show()"
      ],
      "metadata": {
        "colab": {
          "base_uri": "https://localhost:8080/",
          "height": 689
        },
        "id": "bg_iPQUHVA0B",
        "outputId": "3dda20d1-a563-40fa-8f11-71515b29c9ea"
      },
      "execution_count": 24,
      "outputs": [
        {
          "output_type": "display_data",
          "data": {
            "text/plain": [
              "<Figure size 864x864 with 2 Axes>"
            ],
            "image/png": "[encoded data removed]"
          },
          "metadata": {
            "needs_background": "light"
          }
        }
      ]
    },
    {
      "cell_type": "markdown",
      "source": [
        "- **Classificação de imagens reais (Não funcionou como o esperado)**"
      ],
      "metadata": {
        "id": "s8TDQ7Oo-90V"
      }
    },
    {
      "cell_type": "code",
      "source": [
        "matrix = list()\n",
        "\n",
        "# Obtém o diretório e a lista com os nomes das imagens\n",
        "origin = os.getcwd() + '/digits/'\n",
        "images = os.listdir(origin)\n",
        "\n",
        "for image in images:\n",
        "\n",
        "  # Arquivo oculto\n",
        "  if image != '.ipynb_checkpoints':\n",
        "\n",
        "    # Leitura da imagem\n",
        "    img = cv.imread(origin + image)\n",
        "\n",
        "    # Converte a imagem do espectro RGB para a escala de cinza\n",
        "    gray = cv.cvtColor(img, cv.COLOR_BGR2GRAY)\n",
        "\n",
        "    # Aplica desfoque na imagem (blur ou borrar)\n",
        "    blurred = cv.GaussianBlur(gray, (37, 37), 0)\n",
        "\n",
        "    # 'Binariza' a imagem de acordo com os limiares de cor (threshold)\n",
        "    _, binarized = cv.threshold(blurred, 140, 255, cv.THRESH_BINARY)\n",
        "\n",
        "    # Redimensiona a imagem original para 28 x 28 para utilizar na predição\n",
        "    resized = cv.resize(binarized, (28, 28), interpolation=cv.INTER_CUBIC)\n",
        "    \n",
        "    # Acúmula os dados das imagens da base\n",
        "    matrix.append(resized)\n",
        "\n",
        "# Dados brutos das imagens reais\n",
        "raw_instances = np.array(matrix)\n",
        "\n",
        "# Pré-Processamento\n",
        "t = raw_instances.reshape(13, 784)\n",
        "real_test = t.astype('float32')/255\n",
        "cnn_test = real_test.reshape(13, 28, 28, 1)\n",
        "\n",
        "# Predições\n",
        "visualize_predictions(cnn_test, 13, 'gray')"
      ],
      "metadata": {
        "colab": {
          "base_uri": "https://localhost:8080/",
          "height": 349
        },
        "id": "XZLiTjHXoNs-",
        "outputId": "220cfdcd-262f-46db-dc6e-c678e55398f5"
      },
      "execution_count": 25,
      "outputs": [
        {
          "output_type": "stream",
          "name": "stdout",
          "text": [
            "Predições para as primeiras 13 imagens:\n",
            "2,3,8,3,3,\t\n",
            "2,2,2,3,2,\t\n",
            "3,2,3,\n",
            "Primeiras 13 imagens do conjunto de teste:\n"
          ]
        },
        {
          "output_type": "display_data",
          "data": {
            "text/plain": [
              "<Figure size 432x288 with 15 Axes>"
            ],
            "image/png": "[encoded data removed]"
          },
          "metadata": {
            "needs_background": "light"
          }
        }
      ]
    }
  ]
}