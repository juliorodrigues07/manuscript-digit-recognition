{
  "nbformat": 4,
  "nbformat_minor": 0,
  "metadata": {
    "colab": {
      "name": "cnn_digit.ipynb",
      "provenance": [],
      "collapsed_sections": [],
      "authorship_tag": "ABX9TyOzdiOcRBAniAOpSuJxH32x",
      "include_colab_link": true
    },
    "kernelspec": {
      "name": "python3",
      "display_name": "Python 3"
    },
    "language_info": {
      "name": "python"
    }
  },
  "cells": [
    {
      "cell_type": "markdown",
      "metadata": {
        "id": "view-in-github",
        "colab_type": "text"
      },
      "source": [
        "<a href=\"https://colab.research.google.com/github/juliorodrigues07/manuscript_digit_recognition/blob/master/cnn_digit.ipynb\" target=\"_parent\"><img src=\"https://colab.research.google.com/assets/colab-badge.svg\" alt=\"Open In Colab\"/></a>"
      ]
    },
    {
      "cell_type": "markdown",
      "source": [
        "- **Importação das bibliotecas necessárias para formular o modelo de aprendizado**"
      ],
      "metadata": {
        "id": "93DT3HrxkSUL"
      }
    },
    {
      "cell_type": "code",
      "execution_count": 1,
      "metadata": {
        "id": "gCmgFLAba6bx"
      },
      "outputs": [],
      "source": [
        "import matplotlib.pyplot as plt\n",
        "import tensorflow as tf\n",
        "import numpy as np\n",
        "import math\n",
        "import os\n",
        "\n",
        "from tensorflow import keras\n",
        "from keras.models import load_model\n",
        "from keras import optimizers\n",
        "from keras import datasets\n",
        "from keras import layers\n",
        "\n",
        "dir = '/mnist_model/'\n",
        "if not os.path.exists(dir):\n",
        "  os.mkdir(dir)"
      ]
    },
    {
      "cell_type": "markdown",
      "source": [
        "- **Hiperparâmetros**"
      ],
      "metadata": {
        "id": "eY5aCZOZw6o1"
      }
    },
    {
      "cell_type": "code",
      "source": [
        "# Otimizador ('SGD', 'RMSprop', 'Adam', 'Adadelta', 'Adagrad', 'Adamax', 'Nadam', 'Ftrl') e perdas\n",
        "opt = 'Adam'\n",
        "lss = 'categorical_crossentropy'\n",
        "\n",
        "# Funções de ativação ('relu', 'sigmoid', 'softplus', 'softsign', 'softmax', 'tanh', 'selu', 'elu', 'exponential')\n",
        "actv_funct = 'relu'\n",
        "exit_actv_funct = 'softmax'\n",
        "\n",
        "# Tamanho dos batchs e número de épocas de treinamento\n",
        "b_size = 60\n",
        "n_epochs = 4"
      ],
      "metadata": {
        "id": "QOHMaJxZwxm2"
      },
      "execution_count": 2,
      "outputs": []
    },
    {
      "cell_type": "markdown",
      "source": [
        "- **Pré-Processamento**"
      ],
      "metadata": {
        "id": "RYNQUiCBjlfs"
      }
    },
    {
      "cell_type": "code",
      "source": [
        "# Número de classes (Dígitos de 0 a 9)\n",
        "n_classes = 10\n",
        "\n",
        "# Divisão da base de dados em conjunto de teste e treinamento\n",
        "(raw_training_attributes, raw_training_classes), (raw_test_attributes, raw_test_classes) = datasets.mnist.load_data()\n",
        "\n",
        "# Discretiza os valores da classe\n",
        "training_classes = keras.utils.to_categorical(raw_training_classes, n_classes)\n",
        "test_classes = keras.utils.to_categorical(raw_test_classes, n_classes)\n",
        "\n",
        "# Converte uma imagem (matriz) de resolução 28 x 28 para um vetor de tamanho 784 normaliza os valores de pixel (atributos)\n",
        "training_attr = raw_training_attributes.reshape(60000, 784)\n",
        "test_attr = raw_test_attributes.reshape(10000, 784)\n",
        "\n",
        "training_attributes = training_attr.astype('float32')/255\n",
        "test_attributes = test_attr.astype('float32')/255"
      ],
      "metadata": {
        "id": "FKaA8140bT55",
        "colab": {
          "base_uri": "https://localhost:8080/"
        },
        "outputId": "b56f33e8-b601-4d92-c457-1eb278af94ba"
      },
      "execution_count": 3,
      "outputs": [
        {
          "output_type": "stream",
          "name": "stdout",
          "text": [
            "Downloading data from https://storage.googleapis.com/tensorflow/tf-keras-datasets/mnist.npz\n",
            "11493376/11490434 [==============================] - 0s 0us/step\n",
            "11501568/11490434 [==============================] - 0s 0us/step\n"
          ]
        }
      ]
    },
    {
      "cell_type": "markdown",
      "source": [
        "- **Plots das imagens da base de dados**"
      ],
      "metadata": {
        "id": "mfJY4pR2hBwQ"
      }
    },
    {
      "cell_type": "code",
      "source": [
        "size = 16\n",
        "sqrt_size = math.sqrt(size)\n",
        "\n",
        "plt.figure()\n",
        "\n",
        "for i in range(size):\n",
        "  plt.subplot(sqrt_size, sqrt_size, i + 1)\n",
        "  plt.imshow(raw_training_attributes[i])\n",
        "  plt.axis('off')\n",
        "\n",
        "plt.show()"
      ],
      "metadata": {
        "colab": {
          "base_uri": "https://localhost:8080/",
          "height": 248
        },
        "id": "c72eF3cGdIoN",
        "outputId": "e685734e-96dd-4eb8-877e-480a0b3a420a"
      },
      "execution_count": null,
      "outputs": [
        {
          "output_type": "display_data",
          "data": {
            "text/plain": [
              "<Figure size 432x288 with 16 Axes>"
            ],
            "image/png": "[encoded data removed]"
          },
          "metadata": {
            "needs_background": "light"
          }
        }
      ]
    },
    {
      "cell_type": "markdown",
      "source": [
        "- **DNN - Rede Neural Artificial Profunda**"
      ],
      "metadata": {
        "id": "fQXlJ_IevXRx"
      }
    },
    {
      "cell_type": "code",
      "source": [
        "# Definição da estrutura da rede neural (nº de camadas, nós, ativação...)\n",
        "model = keras.Sequential([\n",
        "                          layers.Dense(512, activation=actv_funct, input_dim=training_attributes.shape[1]),\n",
        "                          layers.Dense(256, activation=actv_funct),\n",
        "                          layers.Dense(124, activation=actv_funct),\n",
        "                          layers.Dense(n_classes, activation=exit_actv_funct)\n",
        "])\n",
        "\n",
        "# Sumário da rede neural e treinamento da mesma\n",
        "model.summary()\n",
        "model.compile(loss=lss, optimizer=opt, metrics=['accuracy'])\n",
        "model.fit(training_attributes, training_classes, batch_size=b_size, epochs=n_epochs, verbose=1)\n",
        "\n",
        "# Desempenho do modelo\n",
        "results = model.evaluate(test_attributes, test_classes, verbose=0)\n",
        "print('\\nPerda:    ' + str(round(results[0] * 100, 2)) + '%')\n",
        "print('Acurácia: ' + str(round(results[1] * 100, 2)) + '%')\n",
        "\n",
        "# Salvamento do modelo\n",
        "model.save(os.getcwd() + dir + 'DNN_' + str(n_epochs) + '_' + str(b_size) + '_' + str(actv_funct) + '_' + \n",
        "                                 str(exit_actv_funct) + '_' + str(opt) + '_' + str(lss) + '.h5')"
      ],
      "metadata": {
        "colab": {
          "base_uri": "https://localhost:8080/"
        },
        "id": "rhrvBxQBkcpk",
        "outputId": "a419a913-7c4a-428b-f833-b73d39af02bb"
      },
      "execution_count": 4,
      "outputs": [
        {
          "output_type": "stream",
          "name": "stdout",
          "text": [
            "Model: \"sequential\"\n",
            "_________________________________________________________________\n",
            " Layer (type)                Output Shape              Param #   \n",
            "=================================================================\n",
            " dense (Dense)               (None, 512)               401920    \n",
            "                                                                 \n",
            " dense_1 (Dense)             (None, 256)               131328    \n",
            "                                                                 \n",
            " dense_2 (Dense)             (None, 124)               31868     \n",
            "                                                                 \n",
            " dense_3 (Dense)             (None, 10)                1250      \n",
            "                                                                 \n",
            "=================================================================\n",
            "Total params: 566,366\n",
            "Trainable params: 566,366\n",
            "Non-trainable params: 0\n",
            "_________________________________________________________________\n",
            "Epoch 1/4\n",
            "1000/1000 [==============================] - 16s 15ms/step - loss: 0.2007 - accuracy: 0.9394\n",
            "Epoch 2/4\n",
            "1000/1000 [==============================] - 10s 10ms/step - loss: 0.0824 - accuracy: 0.9745\n",
            "Epoch 3/4\n",
            "1000/1000 [==============================] - 10s 10ms/step - loss: 0.0579 - accuracy: 0.9819\n",
            "Epoch 4/4\n",
            "1000/1000 [==============================] - 10s 10ms/step - loss: 0.0428 - accuracy: 0.9855\n",
            "\n",
            "Perda:    8.38%\n",
            "Acurácia: 97.6%\n"
          ]
        }
      ]
    },
    {
      "cell_type": "markdown",
      "source": [
        "- **CNN - Rede Neural Artificial Convolucional**"
      ],
      "metadata": {
        "id": "nz_9iWQWW1DJ"
      }
    },
    {
      "cell_type": "code",
      "source": [
        "model = keras.Sequential()\n",
        "\n",
        "# Primeira camada convolucional\n",
        "model.add(layers.Conv2D(filters=32, kernel_size=5, strides=(1, 1), padding='same', activation=actv_funct, input_shape=(28, 28, 1)))\n",
        "model.add(layers.MaxPool2D(pool_size=(2, 2), strides=(2, 2), padding='valid'))\n",
        "\n",
        "# Segunda camada convolucional\n",
        "model.add(layers.Conv2D(filters=64, kernel_size=3, strides=(1, 1), padding='same', activation=actv_funct))\n",
        "model.add(layers.MaxPool2D(pool_size=(2, 2), strides=(2, 2), padding='valid'))\n",
        "\n",
        "# Camada de 'Dropout' que 'reseta' dados da entrada aleatoriamente a cada n passos de treinamento, com o intuito de reduzir overfitting \n",
        "model.add(layers.Dropout(0.25))\n",
        "model.add(layers.Flatten())\n",
        "\n",
        "# Duas camadas inteiramente conectadas \n",
        "model.add(layers.Dense(128, activation=actv_funct))\n",
        "model.add(layers.Dropout(0.5))\n",
        "model.add(layers.Dense(10, activation=tf.nn.softmax))\n",
        "\n",
        "# Redimensionamento dos dados, adaptando para utilização da CNN\n",
        "cnn_training_attributes = training_attributes.reshape(60000, 28, 28, 1)\n",
        "cnn_test_attributes = test_attributes.reshape(10000, 28, 28, 1)\n",
        "\n",
        "# Treinamento da rede neural\n",
        "model.compile(optimizer=opt, loss=lss, metrics=['accuracy'])\n",
        "model.fit(cnn_training_attributes, training_classes, epochs=n_epochs, batch_size=b_size)\n",
        "\n",
        "# Desempenho do modelo\n",
        "results = model.evaluate(cnn_test_attributes, test_classes, verbose=0)\n",
        "print('\\nPerda:    ' + str(round(results[0] * 100, 2)) + '%')\n",
        "print('Acurácia: ' + str(round(results[1] * 100, 2)) + '%')\n",
        "\n",
        "model.save(os.getcwd() + dir + 'CNN_' + str(n_epochs) + '_' + str(b_size) + str(actv_funct) + '_' + \n",
        "                                 str(exit_actv_funct) + '_' + str(opt) + '_' + str(lss) + '.h5')"
      ],
      "metadata": {
        "colab": {
          "base_uri": "https://localhost:8080/"
        },
        "id": "ZPlYWA2-W0G3",
        "outputId": "8649ca12-2e49-40da-b500-957de088e144"
      },
      "execution_count": 5,
      "outputs": [
        {
          "output_type": "stream",
          "name": "stdout",
          "text": [
            "Epoch 1/4\n",
            "1000/1000 [==============================] - 92s 91ms/step - loss: 0.2170 - accuracy: 0.9340\n",
            "Epoch 2/4\n",
            "1000/1000 [==============================] - 87s 87ms/step - loss: 0.0802 - accuracy: 0.9757\n",
            "Epoch 3/4\n",
            "1000/1000 [==============================] - 87s 87ms/step - loss: 0.0609 - accuracy: 0.9814\n",
            "Epoch 4/4\n",
            "1000/1000 [==============================] - 85s 85ms/step - loss: 0.0494 - accuracy: 0.9850\n",
            "\n",
            "Perda:    2.47%\n",
            "Acurácia: 99.17%\n"
          ]
        }
      ]
    },
    {
      "cell_type": "markdown",
      "source": [
        "- **Carregamento de modelos**"
      ],
      "metadata": {
        "id": "QGQ2gyMkDIzq"
      }
    },
    {
      "cell_type": "code",
      "source": [
        "name = os.getcwd() + dir + 'CNN_4_60relu_softmax_Adam_categorical_crossentropy.h5'\n",
        "\n",
        "loaded_model = load_model(name)\n",
        "loaded_model.summary()"
      ],
      "metadata": {
        "colab": {
          "base_uri": "https://localhost:8080/"
        },
        "id": "HhFkyVLsDID7",
        "outputId": "0e376783-49b1-452e-89e0-e776981cf87b"
      },
      "execution_count": 7,
      "outputs": [
        {
          "output_type": "stream",
          "name": "stdout",
          "text": [
            "Model: \"sequential_1\"\n",
            "_________________________________________________________________\n",
            " Layer (type)                Output Shape              Param #   \n",
            "=================================================================\n",
            " conv2d (Conv2D)             (None, 28, 28, 32)        832       \n",
            "                                                                 \n",
            " max_pooling2d (MaxPooling2D  (None, 14, 14, 32)       0         \n",
            " )                                                               \n",
            "                                                                 \n",
            " conv2d_1 (Conv2D)           (None, 14, 14, 64)        18496     \n",
            "                                                                 \n",
            " max_pooling2d_1 (MaxPooling  (None, 7, 7, 64)         0         \n",
            " 2D)                                                             \n",
            "                                                                 \n",
            " dropout (Dropout)           (None, 7, 7, 64)          0         \n",
            "                                                                 \n",
            " flatten (Flatten)           (None, 3136)              0         \n",
            "                                                                 \n",
            " dense_4 (Dense)             (None, 128)               401536    \n",
            "                                                                 \n",
            " dropout_1 (Dropout)         (None, 128)               0         \n",
            "                                                                 \n",
            " dense_5 (Dense)             (None, 10)                1290      \n",
            "                                                                 \n",
            "=================================================================\n",
            "Total params: 422,154\n",
            "Trainable params: 422,154\n",
            "Non-trainable params: 0\n",
            "_________________________________________________________________\n"
          ]
        }
      ]
    },
    {
      "cell_type": "markdown",
      "source": [
        "- **Visualização das predições**"
      ],
      "metadata": {
        "id": "mVzkAH6-JeXl"
      }
    },
    {
      "cell_type": "code",
      "source": [
        "n = 25\n",
        "\n",
        "final = np.argmax(loaded_model.predict(cnn_test_attributes[0 : n]), axis=-1)\n",
        "\n",
        "fig, ax = plt.subplots(nrows=int(n / 5), ncols=5)\n",
        "ax = ax.flatten()\n",
        "\n",
        "print('Predições para as primeiras {} imagens:'.format(n))\n",
        "\n",
        "for i in range(n):\n",
        "  print(final[i],end=',')\n",
        "\n",
        "  if int((i + 1) % 5) == 0:\n",
        "    print('\\t')\n",
        "  \n",
        "  img = cnn_test_attributes[i].reshape((28, 28))\n",
        "  plt.axis(\"off\")\n",
        "\n",
        "  ax[i].imshow(img, cmap='Greys', interpolation='nearest')\n",
        "  ax[i].axis(\"off\")\n",
        "\n",
        "print('\\nPrimeiras {} imagens do conjunto de teste:'.format(n))"
      ],
      "metadata": {
        "colab": {
          "base_uri": "https://localhost:8080/",
          "height": 387
        },
        "id": "Zf-Kg62ADrw7",
        "outputId": "2f09fcf0-f7a1-4bbc-d80c-8dbd61b54cee"
      },
      "execution_count": 9,
      "outputs": [
        {
          "output_type": "stream",
          "name": "stdout",
          "text": [
            "Predições para as primeiras 25 imagens:\n",
            "7,2,1,0,4,\t\n",
            "1,4,9,5,9,\t\n",
            "0,6,9,0,1,\t\n",
            "5,9,7,3,4,\t\n",
            "9,6,6,5,4,\t\n",
            "\n",
            "Primeiras 25 imagens do conjunto de teste:\n"
          ]
        },
        {
          "output_type": "display_data",
          "data": {
            "text/plain": [
              "<Figure size 432x288 with 25 Axes>"
            ],
            "image/png": "[encoded data removed]"
          },
          "metadata": {
            "needs_background": "light"
          }
        }
      ]
    },
    {
      "cell_type": "markdown",
      "source": [
        "- **Matriz de confusão**"
      ],
      "metadata": {
        "id": "ztCW2CDNVEPw"
      }
    },
    {
      "cell_type": "code",
      "source": [
        "# Predições\n",
        "final = np.argmax(loaded_model.predict(cnn_test_attributes), axis=-1)\n",
        "\n",
        "# Formata os dados dos rótulos reais para comparar com as predições\n",
        "cnn_test_classes = list()\n",
        "for i in range(len(test_classes)):\n",
        "  cnn_test_classes.append(np.argmax(test_classes[i]))\n",
        "\n",
        "c_matrix = tf.math.confusion_matrix(cnn_test_classes, final, num_classes=n_classes)\n",
        "\n",
        "print('Matriz de Confusão:\\n')\n",
        "print(c_matrix)"
      ],
      "metadata": {
        "colab": {
          "base_uri": "https://localhost:8080/"
        },
        "id": "bg_iPQUHVA0B",
        "outputId": "999e449a-288c-4a97-f55d-457dc8d7d8cc"
      },
      "execution_count": 10,
      "outputs": [
        {
          "output_type": "stream",
          "name": "stdout",
          "text": [
            "Matriz de Confusão:\n",
            "\n",
            "tf.Tensor(\n",
            "[[ 978    0    0    0    0    0    0    1    1    0]\n",
            " [   0 1133    1    0    0    1    0    0    0    0]\n",
            " [   1    2 1028    0    0    0    0    1    0    0]\n",
            " [   0    0    1 1006    0    3    0    0    0    0]\n",
            " [   0    0    0    0  970    0    0    0    2   10]\n",
            " [   0    0    0    1    0  889    1    0    0    1]\n",
            " [   4    2    0    0    1    1  950    0    0    0]\n",
            " [   0    3    4    0    0    0    0 1019    1    1]\n",
            " [   2    1    3    3    0    1    1    1  958    4]\n",
            " [   0    1    0    0    4    9    0    8    1  986]], shape=(10, 10), dtype=int32)\n"
          ]
        }
      ]
    }
  ]
}